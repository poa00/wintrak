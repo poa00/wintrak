{
 "cells": [
  {
   "cell_type": "code",
   "execution_count": 2,
   "metadata": {},
   "outputs": [],
   "source": [
    "import logging\n",
    "import Xlib\n",
    "from Xlib import X\n",
    "from Xlib.display import Display\n",
    "from Xlib.error import XError\n",
    "from Xlib.xobject.drawable import Window\n",
    "from Xlib.protocol.rq import Event\n",
    "\n",
    "from mpi4py import MPI\n",
    "from threading import Thread\n",
    "from datetime import datetime"
   ]
  },
  {
   "cell_type": "code",
   "execution_count": 3,
   "metadata": {},
   "outputs": [],
   "source": [
    "disp = Display()\n",
    "Xroot = disp.screen().root\n",
    "_NET_ACTIVE_WINDOW = disp.intern_atom(\"_NET_ACTIVE_WINDOW\")\n",
    "_NET_WM_NAME = disp.intern_atom(\"_NET_WM_NAME\")\n",
    "_WM_NAME = disp.intern_atom(\"WM_NAME\")\n",
    "_NET_WM_PID = disp.intern_atom(\"_NET_WM_PID\")\n",
    "Xroot.change_attributes(\n",
    "    event_mask=Xlib.X.PropertyChangeMask | Xlib.X.SubstructureNotifyMask\n",
    ")\n",
    "comm = MPI.COMM_WORLD\n",
    "rank = comm.Get_rank()"
   ]
  },
  {
   "cell_type": "code",
   "execution_count": 4,
   "metadata": {},
   "outputs": [
    {
     "data": {
      "text/plain": [
       "<<class 'Xlib.protocol.request.GetProperty'> serial = 20, data = {'sequence_number': 20, 'property_type': 6, 'bytes_after': 0, 'value': (32, array('I', [550273]))}, error = None>"
      ]
     },
     "execution_count": 4,
     "metadata": {},
     "output_type": "execute_result"
    }
   ],
   "source": [
    "active = disp.get_input_focus().focus\n",
    "active.get_full_property(disp.intern_atom(\"_NET_WM_PID\"), X.AnyPropertyType)"
   ]
  },
  {
   "cell_type": "code",
   "execution_count": 5,
   "metadata": {},
   "outputs": [
    {
     "name": "stdout",
     "output_type": "stream",
     "text": [
      "550273\n"
     ]
    }
   ],
   "source": [
    "pid_prop = active.get_full_property(disp.intern_atom(\"_NET_WM_PID\"), X.AnyPropertyType)\n",
    "pid = pid_prop.value[0]\n",
    "print(pid)"
   ]
  },
  {
   "cell_type": "code",
   "execution_count": 6,
   "metadata": {},
   "outputs": [
    {
     "name": "stdout",
     "output_type": "stream",
     "text": [
      "code\n"
     ]
    }
   ],
   "source": [
    "import os\n",
    "import psutil\n",
    "\n",
    "# Get name of process\n",
    "process = psutil.Process(pid)\n",
    "process_name = process.name()\n",
    "print(process_name)"
   ]
  },
  {
   "cell_type": "code",
   "execution_count": 7,
   "metadata": {},
   "outputs": [
    {
     "name": "stdout",
     "output_type": "stream",
     "text": [
      "psutil.Process(pid=550273, name='code', status='sleeping', started='07:38:00')\n"
     ]
    }
   ],
   "source": [
    "print(process)"
   ]
  },
  {
   "cell_type": "code",
   "execution_count": 8,
   "metadata": {},
   "outputs": [],
   "source": [
    "active: Window = disp.get_input_focus().focus\n",
    "window_title = active.get_full_text_property(_NET_WM_NAME)\n",
    "pid = active.get_full_property(_NET_WM_PID, X.AnyPropertyType)\n",
    "process = psutil.Process(pid.value[0])\n",
    "process_name = process.name()\n",
    "process_name"
   ]
  }
 ],
 "metadata": {
  "kernelspec": {
   "display_name": "Python 3.10.10 ('pyTrak-Sy1MUyBb')",
   "language": "python",
   "name": "python3"
  },
  "language_info": {
   "codemirror_mode": {
    "name": "ipython",
    "version": 3
   },
   "file_extension": ".py",
   "mimetype": "text/x-python",
   "name": "python",
   "nbconvert_exporter": "python",
   "pygments_lexer": "ipython3",
   "version": "3.10.10"
  },
  "orig_nbformat": 4,
  "vscode": {
   "interpreter": {
    "hash": "35782a901390f6d8b12a74ac9b6e339bdfd05a98d93d0312d946c548b18877c2"
   }
  }
 },
 "nbformat": 4,
 "nbformat_minor": 2
}
