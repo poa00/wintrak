{
 "cells": [
  {
   "cell_type": "code",
   "execution_count": 5,
   "metadata": {},
   "outputs": [
    {
     "name": "stdout",
     "output_type": "stream",
     "text": [
      "('try_different_notifiers.ipynb - wintrak - Visual Studio Code', 'code', '09:57:13')\n",
      "('● try_different_notifiers.ipynb - wintrak - Visual Studio Code', 'code', '09:57:13')\n",
      "('Application Window Properties — Mozilla Firefox', 'firefox', '09:57:16')\n",
      "('Application Window Properties — Mozilla Firefox', 'firefox', '09:57:16')\n",
      "('How to “correctly” detect application name when changing focus event occurs with python xlib - Stack Overflow — Mozilla Firefox', 'firefox', '09:57:21')\n",
      "('listen for changes in NET_WM_NAME - Sök på Google — Mozilla Firefox', 'firefox', '09:57:22')\n",
      "('Application Window Properties — Mozilla Firefox', 'firefox', '09:57:25')\n",
      "('listen for changes in NET_WM_NAME - Sök på Google — Mozilla Firefox', 'firefox', '09:57:27')\n",
      "('Application Window Properties — Mozilla Firefox', 'firefox', '09:57:28')\n",
      "('listen for changes in NET_WM_NAME - Sök på Google — Mozilla Firefox', 'firefox', '09:57:30')\n",
      "('Application Window Properties — Mozilla Firefox', 'firefox', '09:57:31')\n",
      "('● try_different_notifiers.ipynb - wintrak - Visual Studio Code', 'code', '09:57:38')\n",
      "('● try_different_notifiers.ipynb - wintrak - Visual Studio Code', 'code', '09:57:38')\n",
      "('try_different_notifiers.ipynb - wintrak - Visual Studio Code', 'code', '09:58:07')\n",
      "('● try_different_notifiers.ipynb - wintrak - Visual Studio Code', 'code', '09:58:07')\n"
     ]
    },
    {
     "ename": "KeyboardInterrupt",
     "evalue": "",
     "output_type": "error",
     "traceback": [
      "\u001b[0;31m---------------------------------------------------------------------------\u001b[0m",
      "\u001b[0;31mKeyboardInterrupt\u001b[0m                         Traceback (most recent call last)",
      "Cell \u001b[0;32mIn[5], line 39\u001b[0m\n\u001b[1;32m     37\u001b[0m \u001b[39mprint\u001b[39m(get_active_window(disp\u001b[39m.\u001b[39mget_input_focus()\u001b[39m.\u001b[39mfocus))\n\u001b[1;32m     38\u001b[0m \u001b[39mwhile\u001b[39;00m \u001b[39mTrue\u001b[39;00m:\n\u001b[0;32m---> 39\u001b[0m     event \u001b[39m=\u001b[39m disp\u001b[39m.\u001b[39;49mnext_event()\n\u001b[1;32m     40\u001b[0m     \u001b[39mif\u001b[39;00m event\u001b[39m.\u001b[39mtype \u001b[39m==\u001b[39m X\u001b[39m.\u001b[39mPropertyNotify \u001b[39mand\u001b[39;00m event\u001b[39m.\u001b[39matom \u001b[39m==\u001b[39m _NET_ACTIVE_WINDOW:\n\u001b[1;32m     41\u001b[0m         \u001b[39mprint\u001b[39m(get_active_window(disp\u001b[39m.\u001b[39mget_input_focus()\u001b[39m.\u001b[39mfocus))\n",
      "File \u001b[0;32m~/.local/share/virtualenvs/wintrak-p2t8N__E/lib/python3.11/site-packages/Xlib/display.py:187\u001b[0m, in \u001b[0;36mDisplay.next_event\u001b[0;34m(self)\u001b[0m\n\u001b[1;32m    184\u001b[0m \u001b[39mdef\u001b[39;00m \u001b[39mnext_event\u001b[39m(\u001b[39mself\u001b[39m):\n\u001b[1;32m    185\u001b[0m \u001b[39m    \u001b[39m\u001b[39m\"\"\"Return the next event. If there are no events queued, it will\u001b[39;00m\n\u001b[1;32m    186\u001b[0m \u001b[39m    block until the next event is fetched from the server.\"\"\"\u001b[39;00m\n\u001b[0;32m--> 187\u001b[0m     \u001b[39mreturn\u001b[39;00m \u001b[39mself\u001b[39;49m\u001b[39m.\u001b[39;49mdisplay\u001b[39m.\u001b[39;49mnext_event()\n",
      "File \u001b[0;32m~/.local/share/virtualenvs/wintrak-p2t8N__E/lib/python3.11/site-packages/Xlib/protocol/display.py:218\u001b[0m, in \u001b[0;36mDisplay.next_event\u001b[0;34m(self)\u001b[0m\n\u001b[1;32m    214\u001b[0m \u001b[39mself\u001b[39m\u001b[39m.\u001b[39mevent_queue_write_lock\u001b[39m.\u001b[39mrelease()\n\u001b[1;32m    216\u001b[0m \u001b[39m# Call send_and_recv, which will return when\u001b[39;00m\n\u001b[1;32m    217\u001b[0m \u001b[39m# something has occured\u001b[39;00m\n\u001b[0;32m--> 218\u001b[0m \u001b[39mself\u001b[39;49m\u001b[39m.\u001b[39;49msend_and_recv(event \u001b[39m=\u001b[39;49m \u001b[39m1\u001b[39;49m)\n\u001b[1;32m    220\u001b[0m \u001b[39m# Before looping around, lock the event queue against\u001b[39;00m\n\u001b[1;32m    221\u001b[0m \u001b[39m# modifications.\u001b[39;00m\n\u001b[1;32m    222\u001b[0m \u001b[39mself\u001b[39m\u001b[39m.\u001b[39mevent_queue_write_lock\u001b[39m.\u001b[39macquire()\n",
      "File \u001b[0;32m~/.local/share/virtualenvs/wintrak-p2t8N__E/lib/python3.11/site-packages/Xlib/protocol/display.py:562\u001b[0m, in \u001b[0;36mDisplay.send_and_recv\u001b[0;34m(self, flush, event, request, recv)\u001b[0m\n\u001b[1;32m    559\u001b[0m     \u001b[39melse\u001b[39;00m:\n\u001b[1;32m    560\u001b[0m         timeout \u001b[39m=\u001b[39m \u001b[39mNone\u001b[39;00m\n\u001b[0;32m--> 562\u001b[0m     rs, ws, es \u001b[39m=\u001b[39m select\u001b[39m.\u001b[39;49mselect([\u001b[39mself\u001b[39;49m\u001b[39m.\u001b[39;49msocket], writeset, [], timeout)\n\u001b[1;32m    564\u001b[0m \u001b[39m# Ignore errors caused by a signal recieved while blocking.\u001b[39;00m\n\u001b[1;32m    565\u001b[0m \u001b[39m# All other errors are re-raised.\u001b[39;00m\n\u001b[1;32m    566\u001b[0m \u001b[39mexcept\u001b[39;00m select\u001b[39m.\u001b[39merror \u001b[39mas\u001b[39;00m err:\n",
      "\u001b[0;31mKeyboardInterrupt\u001b[0m: "
     ]
    }
   ],
   "source": [
    "from datetime import datetime\n",
    "import Xlib\n",
    "from Xlib import X\n",
    "from Xlib.display import Display\n",
    "from Xlib.error import XError\n",
    "from Xlib.xobject.drawable import Window\n",
    "from Xlib.protocol.rq import Event\n",
    "import psutil\n",
    "\n",
    "disp = Display()\n",
    "Xroot = disp.screen().root\n",
    "_NET_ACTIVE_WINDOW = disp.intern_atom(\"_NET_ACTIVE_WINDOW\")\n",
    "_NET_WM_NAME = disp.intern_atom(\"_NET_WM_NAME\")\n",
    "_WM_NAME = disp.intern_atom(\"_WM_NAME\")\n",
    "_NET_WM_PID = disp.intern_atom(\"_NET_WM_PID\")\n",
    "Xroot.change_attributes(event_mask=X.SubstructureNotifyMask | X.PropertyChangeMask)\n",
    "\n",
    "def get_active_window(window_handle: Window):\n",
    "    current_time = datetime.now()\n",
    "    event_mask = window_handle.get_attributes()._data[\"your_event_mask\"]\n",
    "    if event_mask == 0:\n",
    "        window_handle.change_attributes(event_mask=X.PropertyChangeMask)\n",
    "\n",
    "    window_title = window_handle.get_full_text_property(_NET_WM_NAME)\n",
    "    if window_title is None:\n",
    "        window_title = window_handle.get_full_text_property(_WM_NAME)\n",
    "\n",
    "    pid = window_handle.get_full_property(_NET_WM_PID, X.AnyPropertyType)\n",
    "    try:\n",
    "        process = psutil.Process(pid.value[0])\n",
    "        process_name = process.name()\n",
    "    except AttributeError:\n",
    "        process_name = \"\"\n",
    "\n",
    "    return (window_title, process_name, current_time.strftime(\"%H:%M:%S\"))\n",
    "\n",
    "print(get_active_window(disp.get_input_focus().focus))\n",
    "while True:\n",
    "    event = disp.next_event()\n",
    "    if event.type == X.PropertyNotify and event.atom == _NET_ACTIVE_WINDOW:\n",
    "        print(get_active_window(disp.get_input_focus().focus))\n",
    "    if event.type == X.PropertyNotify and (event.atom == _NET_WM_NAME or event.atom == _WM_NAME):\n",
    "        print(get_active_window(event.window))"
   ]
  }
 ],
 "metadata": {
  "kernelspec": {
   "display_name": "wintrak-p2t8N__E",
   "language": "python",
   "name": "python3"
  },
  "language_info": {
   "codemirror_mode": {
    "name": "ipython",
    "version": 3
   },
   "file_extension": ".py",
   "mimetype": "text/x-python",
   "name": "python",
   "nbconvert_exporter": "python",
   "pygments_lexer": "ipython3",
   "version": "3.11.3"
  },
  "orig_nbformat": 4
 },
 "nbformat": 4,
 "nbformat_minor": 2
}
